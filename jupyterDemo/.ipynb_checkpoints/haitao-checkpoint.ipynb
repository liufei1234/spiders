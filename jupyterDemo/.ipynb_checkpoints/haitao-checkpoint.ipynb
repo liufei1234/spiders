{
 "cells": [
  {
   "cell_type": "raw",
   "metadata": {},
   "source": [
    "import requests\n",
    "from bs4 import BeautifulSoup\n",
    "import urllib2\n",
    "\n",
    "\n",
    "# print soup.get_text()\n",
    "# print soup.title.parent.string\n",
    "# print '====='\n",
    "# print soup.title.string\n",
    "# print '====='\n",
    "# print soup.title.name\n",
    "# print '===='\n",
    "# print soup.title\n",
    "# print '========'\n",
    "# print soup.prettify()\n",
    "\n",
    "header = {\n",
    "    'User-Agent':'Mozilla/5.0 (iPhone; CPU iPhone OS 9_1 like Mac OS X) AppleWebKit/601.1.46 (KHTML, like Gecko) Version/9.0 Mobile/13B143 Safari/601.1'\n",
    "}\n",
    "r = requests.post('https://m.55haitao.com',headers=header)\n",
    "r.encoding = 'utf-8'\n",
    "ref = BeautifulSoup(r.text,'html.parser')\n",
    "\n",
    "\n",
    "for item in ref.select('#new_deal_ul li'):\n",
    "    print 'url:'+item.a['href'],'\\nimg:' +item.a.div.img['data-original']"
   ]
  },
  {
   "cell_type": "code",
   "execution_count": null,
   "metadata": {},
   "outputs": [],
   "source": []
  },
  {
   "cell_type": "code",
   "execution_count": null,
   "metadata": {},
   "outputs": [],
   "source": []
  },
  {
   "cell_type": "code",
   "execution_count": null,
   "metadata": {},
   "outputs": [],
   "source": []
  }
 ],
 "metadata": {
  "kernelspec": {
   "display_name": "Python 2",
   "language": "python",
   "name": "python2"
  },
  "language_info": {
   "codemirror_mode": {
    "name": "ipython",
    "version": 2
   },
   "file_extension": ".py",
   "mimetype": "text/x-python",
   "name": "python",
   "nbconvert_exporter": "python",
   "pygments_lexer": "ipython2",
   "version": "2.7.12"
  }
 },
 "nbformat": 4,
 "nbformat_minor": 2
}
